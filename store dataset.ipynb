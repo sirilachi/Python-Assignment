{
 "cells": [
  {
   "cell_type": "code",
   "execution_count": null,
   "metadata": {},
   "outputs": [],
   "source": [
    "import pandas as pd\n",
    "import numpy as np\n",
    "store = pd.read_csv(\"Store.csv\",encoding=\"latin\")"
   ]
  },
  {
   "cell_type": "code",
   "execution_count": null,
   "metadata": {},
   "outputs": [],
   "source": [
    "'''\n",
    "•\tHow many unique cities are the orders being delivered to\n",
    "•\tWhat is the total quantity sold in the East Region?\n",
    "•\tFind the sum of the quantity sold in the East Region\n",
    "•\tIn the south region sort the sales in decreasing order\n",
    "•\tFind the mean of quantity for every region\n",
    "•\tFind the mean of sales for every category\n",
    "•\tFind the max, min, sum of sales and profit for every category\n",
    "•\tFind sum of sales and max profit for every segment\n",
    "•\tFor every segment find the mean of the discount\n",
    "•\tFor every segment find the most profitable customers\n",
    "•\tWhat are the top 5 categories that give maximum profit?\n",
    "•\tWhat is the Total Sales, Quantity, Discount, Profit across Total US.\n",
    "•\tHow many times has it taken more than 5 days from placing an order to shipping\n",
    "•\tFind the total number of orders in every category which has been shipped with a duration > 5 days\n",
    "•\tWhat’s the percentage of items which has been shipped within 5 days\n",
    "•\tWhat’s the percentage of items which has been shipped after 5 days\n",
    "'''\n",
    "\n",
    "\n"
   ]
  },
  {
   "cell_type": "code",
   "execution_count": null,
   "metadata": {},
   "outputs": [],
   "source": [
    "#•\tHow many unique cities are the orders being delivered to\n",
    "store.City.unique()"
   ]
  },
  {
   "cell_type": "code",
   "execution_count": null,
   "metadata": {},
   "outputs": [],
   "source": [
    "#•\tWhat is the total quantity sold in the East Region?\n",
    "store.query(\"(Region=='East')\").count().Quantity"
   ]
  },
  {
   "cell_type": "code",
   "execution_count": null,
   "metadata": {},
   "outputs": [],
   "source": [
    "#•\tFind the sum of the quantity sold in the East Region\n",
    "store.query(\"(Region=='East')\").sum().Quantity\n",
    "store"
   ]
  },
  {
   "cell_type": "code",
   "execution_count": null,
   "metadata": {},
   "outputs": [],
   "source": [
    "#•\tIn the south region sort the sales in decreasing order\n",
    "store.query(\"(Region=='South')\").sort_values(by='Sales',ascending=False)\n"
   ]
  },
  {
   "cell_type": "code",
   "execution_count": null,
   "metadata": {},
   "outputs": [],
   "source": [
    "#\tFind the mean of quantity for every region\n",
    "store.groupby(\"Region\").mean().Quantity"
   ]
  },
  {
   "cell_type": "code",
   "execution_count": null,
   "metadata": {},
   "outputs": [],
   "source": [
    "#•\tFind the mean of sales for every category\n",
    "store.groupby(\"Category\").mean().Sales"
   ]
  },
  {
   "cell_type": "code",
   "execution_count": null,
   "metadata": {},
   "outputs": [],
   "source": [
    "#Find the max, min, sum of sales and profit for every category\n",
    "store.groupby(\"Category\")[\"Sales\",\"Profit\"].sum()\n",
    "store.groupby(\"Category\")[\"Sales\",\"Profit\"].min()\n",
    "store.groupby(\"Category\")[\"Sales\",\"Profit\"].max()\n"
   ]
  },
  {
   "cell_type": "code",
   "execution_count": null,
   "metadata": {},
   "outputs": [],
   "source": [
    "#Find sum of sales and max profit for every segment\n",
    "store.groupby(\"Segment\").sum().Sales\n",
    "store.groupby(\"Segment\").max().Profit"
   ]
  },
  {
   "cell_type": "code",
   "execution_count": null,
   "metadata": {},
   "outputs": [],
   "source": [
    "#For every segment find the mean of the discount\n",
    "store.groupby(\"Segment\").mean().Discount"
   ]
  },
  {
   "cell_type": "code",
   "execution_count": null,
   "metadata": {},
   "outputs": [],
   "source": [
    "#For every segment find the most profitable customers\n",
    "a=store.groupby('Segment').Profit.max()\n",
    "b=store.Profit\n",
    "store[[\"Customer Name\",\"Segment\",\"Profit\"]][np.in1d(b,a)]\n"
   ]
  },
  {
   "cell_type": "code",
   "execution_count": null,
   "metadata": {},
   "outputs": [],
   "source": [
    "#What are the top 5 sub  categories that give maximum profit?\n",
    "store.groupby(\"Sub-Category\").Profit.max().nlargest(5)"
   ]
  },
  {
   "cell_type": "code",
   "execution_count": null,
   "metadata": {},
   "outputs": [],
   "source": [
    "#What is the Total Sales, Quantity, Discount, Profit across Total US.\n",
    "store.query(\"(Country=='United States')\")[[\"Sales\",\"Quantity\",\"Discount\",\"Profit\"]].agg(['sum'])"
   ]
  },
  {
   "cell_type": "code",
   "execution_count": null,
   "metadata": {},
   "outputs": [],
   "source": [
    "#How many times has it taken more than 5 days from placing an order to shipping?\n",
    "store['Order Date']=pd.to_datetime(store['Order Date'])\n",
    "store['Ship Date']=pd.to_datetime(store['Ship Date'])\n",
    "m=sum((store['Ship Date']-store['Order Date'])> '5 days' )\n"
   ]
  },
  {
   "cell_type": "code",
   "execution_count": null,
   "metadata": {},
   "outputs": [],
   "source": [
    "#Find the total number of orders in every category which has been shipped with a duration > 5 days\n",
    "#list(store)\n",
    "store['Days Elapsed'] = store['Ship Date']-store['Order Date']\n",
    "#store.groupby('Category').sum((store['Ship Date']-store['Order Date'])>'5 days')\n",
    "store[store['Days Elapsed'] > '5 days'].groupby('Category')['Order ID'].count()\n"
   ]
  },
  {
   "cell_type": "code",
   "execution_count": null,
   "metadata": {},
   "outputs": [],
   "source": [
    "#What’s the percentage of items which has been shipped within 5 days\n",
    "store"
   ]
  },
  {
   "cell_type": "code",
   "execution_count": null,
   "metadata": {},
   "outputs": [],
   "source": [
    "\n",
    "#What’s the percentage of items which has been shipped after 5 days\n",
    "sum((store['Ship Date']-store['Order Date'])> '5 days' )/len((store['Ship Date']-store['Order Date'])> '5 days' )*100\n"
   ]
  },
  {
   "cell_type": "code",
   "execution_count": null,
   "metadata": {},
   "outputs": [],
   "source": [
    "#What’s the percentage of items which has been shipped within  5 days\n",
    "sum((store['Ship Date']-store['Order Date'])< '5 days' )/len((store['Ship Date']-store['Order Date'])< '5 days' )*100\n"
   ]
  }
 ],
 "metadata": {
  "kernelspec": {
   "display_name": "Python 3",
   "language": "python",
   "name": "python3"
  },
  "language_info": {
   "codemirror_mode": {
    "name": "ipython",
    "version": 3
   },
   "file_extension": ".py",
   "mimetype": "text/x-python",
   "name": "python",
   "nbconvert_exporter": "python",
   "pygments_lexer": "ipython3",
   "version": "3.6.4"
  }
 },
 "nbformat": 4,
 "nbformat_minor": 2
}
