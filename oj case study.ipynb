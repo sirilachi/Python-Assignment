{
 "cells": [
  {
   "cell_type": "code",
   "execution_count": null,
   "metadata": {},
   "outputs": [],
   "source": [
    "import pandas as pd\n",
    "import numpy as np\n",
    "\n",
    "oj=pd.read_csv(\"oj.csv\")\n",
    "oj.head()\n",
    "\n",
    "'''\n",
    "1.\tFind the dimensions of the oj data set\n",
    "2.\tFind the structure of the data set\n",
    "3.\tFind out the column names in the data set\n",
    "4.\tDescribe the data set\n",
    "\n",
    "\n",
    "1.\tFetch the first row 3rd column from the data set\n",
    "2.\tFetch the first, second and Third columns of the oj data frame\n",
    "3.\tFetch the first, second, eighth and the 456th rows of the 1st, third and the sixth columns of the data frame\n",
    "4.\tFetch the top 5 rows of the brand column\n",
    "5.\tFetch top 5 rows of the brand, week and feat details\n",
    "6.\tFetch the details of all distinct stores\n",
    "7.\tFetch all the observations for Tropicana brand\n",
    "8.\tFetch all the observations for Tropicana brand using query function\n",
    "9.\tFetch bottom 5 observations for those who have bought Tropicana or dominics\n",
    "10.\tFetch the income, brand, price observations with Tropicana brand without feature advertisement\n",
    "11.\tAdd a new column in the dataset: logInc which is the logarithm of the income\n",
    "12.\tSort the Data in the increasing order of the week\n",
    "13.\tSort the data in the decreasing order of Income\n",
    "14.\tFind the mean of the juice price for each brand\n",
    "15.\tFind the average income for each brand and at each store\n",
    "16.\tFind:\n",
    "a.\tMean and std deviation of the income\n",
    "b.\tFor income greater than or equal to 10.5, find the mean income\n",
    "c.\tFor each brand having price >=2.5 find the mean, median, sd of the log of income\n",
    "17.\tFind the Cross tabulation of brands and feature advertisement\n",
    "'''"
   ]
  },
  {
   "cell_type": "code",
   "execution_count": null,
   "metadata": {},
   "outputs": [],
   "source": [
    "data=pd.DataFrame(oj)\n",
    "data.shape"
   ]
  },
  {
   "cell_type": "code",
   "execution_count": null,
   "metadata": {},
   "outputs": [],
   "source": [
    "data.describe()"
   ]
  },
  {
   "cell_type": "code",
   "execution_count": null,
   "metadata": {},
   "outputs": [],
   "source": [
    "list(data)"
   ]
  },
  {
   "cell_type": "code",
   "execution_count": null,
   "metadata": {},
   "outputs": [],
   "source": [
    "#1>Fetch the first row 3rd column from the data set\n",
    "data.iloc[0,2]\n",
    "#2.\tFetch the first, second and Third columns of the oj data frame\n",
    "data.iloc[:,:3]\n",
    "#3.\tFetch the first, second, eighth and the 456th rows of the 1st, third and the sixth columns of the data frame\n",
    "data.iloc[[0,1,7,455],[2,5]]\n",
    "#4.\tFetch the top 5 rows of the brand column\n",
    "data.brand.head(5)\n",
    "#5.\tFetch top 5 rows of the brand, week and feat details\n",
    "data.loc[:4,[\"brand\",\"week\",\"feat\"]]"
   ]
  },
  {
   "cell_type": "code",
   "execution_count": null,
   "metadata": {},
   "outputs": [],
   "source": []
  },
  {
   "cell_type": "code",
   "execution_count": null,
   "metadata": {},
   "outputs": [],
   "source": []
  },
  {
   "cell_type": "code",
   "execution_count": null,
   "metadata": {},
   "outputs": [],
   "source": [
    "#6.\tFetch the details of all distinct stores\n",
    "data.store.unique()\n",
    "\n",
    "#7.\tFetch all the observations for Tropicana brand\n",
    " \n",
    "data[data.brand==\"tropicana\"]\n",
    "#8.\tFetch all the observations for Tropicana brand using query function\n",
    "\n",
    "data.query(\"(brand=='tropicana')\")\n",
    "#9.\tFetch bottom 5 observations for those who have bought Tropicana or dominics\n",
    "\n",
    "data.query(\"(brand=='tropicana' or brand=='dominicks')\").tail(5)\n",
    "#10.\tFetch the income, brand, price observations with Tropicana brand without feature advertisement\n",
    "\n",
    "data.query(\"(brand=='tropicana' and feat==0)\")[[\"INCOME\",\"brand\",\"price\"]]\n",
    "\n"
   ]
  },
  {
   "cell_type": "code",
   "execution_count": null,
   "metadata": {},
   "outputs": [],
   "source": [
    "#11.\tAdd a new column in the dataset: logInc which is the logarithm of the income\n",
    "\n",
    "data['logINC']=np.log(data.INCOME)\n",
    "\n",
    "#12.\tSort the Data in the increasing order of the week\n",
    "\n",
    "data=data.sort_values(by=\"week\",ascending=True)\n",
    "\n",
    "#13.\tSort the data in the decreasing order of Income\n",
    "data=data.sort_values(by=\"INCOME\",ascending=False)\n",
    "\n",
    "#14.\tFind the mean of the juice price for each brand\n",
    "\n",
    "data.groupby([\"brand\"]).mean().price\n",
    "#15.\tFind the average income for each brand and at each store\n",
    "data.groupby([\"brand\",\"store\"]).mean().INCOME"
   ]
  },
  {
   "cell_type": "code",
   "execution_count": null,
   "metadata": {},
   "outputs": [],
   "source": [
    "#16.\tFind:\n",
    "#a.\tMean and std deviation of the income\n",
    "data.INCOME.mean()\n",
    "data.INCOME.std()\n",
    "#b.\tFor income greater than or equal to 10.5, find the mean income\n",
    "data[data.INCOME>=10.5].mean().INCOME\n",
    "#c.\tFor each brand having price >=2.5 find the mean, median, sd of the log of income\n",
    "\n",
    "data[data.price>=2.5].mean().logINC\n",
    "data[data.price>=2.5].median().logINC\n",
    "data[data.price>=2.5].std().logINC\n",
    "\n",
    "\n",
    "#17.\tFind the Cross tabulation of brands and feature advertisementI\n",
    "\n",
    "pd.crosstab(data.brand,data.feat)"
   ]
  },
  {
   "cell_type": "code",
   "execution_count": null,
   "metadata": {},
   "outputs": [],
   "source": []
  }
 ],
 "metadata": {
  "kernelspec": {
   "display_name": "Python 3",
   "language": "python",
   "name": "python3"
  },
  "language_info": {
   "codemirror_mode": {
    "name": "ipython",
    "version": 3
   },
   "file_extension": ".py",
   "mimetype": "text/x-python",
   "name": "python",
   "nbconvert_exporter": "python",
   "pygments_lexer": "ipython3",
   "version": "3.6.4"
  }
 },
 "nbformat": 4,
 "nbformat_minor": 2
}
