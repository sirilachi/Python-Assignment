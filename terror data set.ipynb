{
 "cells": [
  {
   "cell_type": "code",
   "execution_count": 1,
   "metadata": {},
   "outputs": [
    {
     "name": "stderr",
     "output_type": "stream",
     "text": [
      "C:\\Users\\Administrator\\Anaconda3\\lib\\site-packages\\IPython\\core\\interactiveshell.py:2728: DtypeWarning: Columns (4,61,62,66,116,117,123) have mixed types. Specify dtype option on import or set low_memory=False.\n",
      "  interactivity=interactivity, compiler=compiler, result=result)\n"
     ]
    }
   ],
   "source": [
    "import pandas as pd\n",
    "import numpy as np\n",
    "import os as os\n",
    "\n",
    "terror=pd.read_csv('terror.csv',encoding='latin')"
   ]
  },
  {
   "cell_type": "code",
   "execution_count": null,
   "metadata": {},
   "outputs": [],
   "source": [
    "#Q.1)\tHow many attacks happened in India?\n",
    "\n",
    "terror[terror.country_txt=='India'].country_txt.count()"
   ]
  },
  {
   "cell_type": "code",
   "execution_count": null,
   "metadata": {},
   "outputs": [],
   "source": [
    "#Q.2)How many attacks happened in India and upto 3 people were killed? \n",
    "\n",
    "terror[(terror.country_txt=='India') & (terror.nkill<=3)].country_txt.count()"
   ]
  },
  {
   "cell_type": "code",
   "execution_count": null,
   "metadata": {},
   "outputs": [],
   "source": [
    "3#Extract the city and summary for attacks above\n",
    "\n",
    "terror[(terror.country_txt=='India') & (terror.nkill<=3)][['city','summary']]"
   ]
  },
  {
   "cell_type": "code",
   "execution_count": null,
   "metadata": {},
   "outputs": [],
   "source": [
    "#Q.4)In a single terror incident in India, find out top 5 cities by number killed\n",
    "\n",
    "terror[(terror.country_txt=='India')].sort_values(by=\"nkill\",ascending=False)[['city','nkill']].head(5)"
   ]
  },
  {
   "cell_type": "code",
   "execution_count": null,
   "metadata": {},
   "outputs": [],
   "source": [
    "#Q.5)In a single terror incident in India, find out top 5 cities by number killed and wounded \n",
    "\n",
    "terror[(terror.country_txt=='India')].sort_values(by='nwound',ascending=False)[['city','nkill','nwound']].head(5)"
   ]
  },
  {
   "cell_type": "code",
   "execution_count": null,
   "metadata": {
    "scrolled": false
   },
   "outputs": [],
   "source": [
    "#How many attacks were successful that were suicide attacks?\n",
    "\n",
    "terror[(terror.weapsubtype1_txt=='Suicide (carried bodily by human being)') & (terror.success==1)].success.count()"
   ]
  },
  {
   "cell_type": "code",
   "execution_count": null,
   "metadata": {},
   "outputs": [],
   "source": [
    "#label all the incidents where the number killed was more than 5 as severe.\n",
    "\n",
    "terror['severity']=['severe' if i>5 else 'not severe'  for i in terror.nkill]\n",
    "\n",
    "terror['severity']"
   ]
  },
  {
   "cell_type": "code",
   "execution_count": 14,
   "metadata": {},
   "outputs": [
    {
     "data": {
      "text/plain": [
       "156772"
      ]
     },
     "execution_count": 14,
     "metadata": {},
     "output_type": "execute_result"
    }
   ],
   "source": [
    "#8write a function to label an incident that was both successful and suicidal\n",
    "\n",
    "def fun(x):\n",
    "    j=[\"Success\" if (x.iloc[i].suicide==1 and x.iloc[i].success==1) else \"Failure\" for i in list(range(0,len(x)))]\n",
    "    return j\n",
    "\n",
    "fun(terror)\n",
    "    \n",
    "    "
   ]
  },
  {
   "cell_type": "code",
   "execution_count": 3,
   "metadata": {},
   "outputs": [
    {
     "data": {
      "text/plain": [
       "0    Row\n",
       "1    Row\n",
       "2    Row\n",
       "3    Row\n",
       "4    Row\n",
       "Name: levels, dtype: object"
      ]
     },
     "execution_count": 3,
     "metadata": {},
     "output_type": "execute_result"
    }
   ],
   "source": [
    "#Q.9)\tCreate a new category representing if the incident occured in Afghanistan, \n",
    "#Pakistan or India as one level of the category and all the other countries as another level\n",
    "\n",
    "terror['levels']=['Asia' if (terror.iloc[i].country_txt=='Afghanistan' or terror.iloc[i].country_txt=='Pakistan' or terror.iloc[i].country_txt=='India') else 'Row' for i in list(range(0,len(terror.country_txt))) ]\n",
    "    \n",
    "terror['levels'].head()"
   ]
  },
  {
   "cell_type": "code",
   "execution_count": 8,
   "metadata": {},
   "outputs": [
    {
     "name": "stdout",
     "output_type": "stream",
     "text": [
      "26.048852654091693\n"
     ]
    }
   ],
   "source": [
    "#Q.10)\tHow many incidents happened in Af-Pak-India vs ROW?\n",
    "\n",
    "print(terror[terror.levels==\"Asia\"].levels.count()*100/ terror[terror.levels==\"Row\"].levels.count())\n",
    "\n"
   ]
  },
  {
   "cell_type": "code",
   "execution_count": 12,
   "metadata": {},
   "outputs": [
    {
     "data": {
      "text/html": [
       "<div>\n",
       "<style scoped>\n",
       "    .dataframe tbody tr th:only-of-type {\n",
       "        vertical-align: middle;\n",
       "    }\n",
       "\n",
       "    .dataframe tbody tr th {\n",
       "        vertical-align: top;\n",
       "    }\n",
       "\n",
       "    .dataframe thead tr th {\n",
       "        text-align: left;\n",
       "    }\n",
       "\n",
       "    .dataframe thead tr:last-of-type th {\n",
       "        text-align: right;\n",
       "    }\n",
       "</style>\n",
       "<table border=\"1\" class=\"dataframe\">\n",
       "  <thead>\n",
       "    <tr>\n",
       "      <th></th>\n",
       "      <th colspan=\"2\" halign=\"left\">nkill</th>\n",
       "    </tr>\n",
       "    <tr>\n",
       "      <th></th>\n",
       "      <th>Number_Incidents</th>\n",
       "      <th>Average_Kills</th>\n",
       "    </tr>\n",
       "    <tr>\n",
       "      <th>levels</th>\n",
       "      <th></th>\n",
       "      <th></th>\n",
       "    </tr>\n",
       "  </thead>\n",
       "  <tbody>\n",
       "    <tr>\n",
       "      <th>Asia</th>\n",
       "      <td>1456</td>\n",
       "      <td>8.127404</td>\n",
       "    </tr>\n",
       "    <tr>\n",
       "      <th>Row</th>\n",
       "      <td>3250</td>\n",
       "      <td>11.511403</td>\n",
       "    </tr>\n",
       "  </tbody>\n",
       "</table>\n",
       "</div>"
      ],
      "text/plain": [
       "                  nkill              \n",
       "       Number_Incidents Average_Kills\n",
       "levels                               \n",
       "Asia               1456      8.127404\n",
       "Row                3250     11.511403"
      ]
     },
     "execution_count": 12,
     "metadata": {},
     "output_type": "execute_result"
    }
   ],
   "source": [
    "#Q.11)\tList the number of suicides attacks and average kills by \n",
    "#Af-Pak-India vs ROW. Rename columns in the output as Average_Kills and Number_Incidents.\n",
    "\n",
    "terror[terror.suicide==1].groupby('levels')[['nkill']].agg(['count','mean']).rename(columns ={'count': 'Number_Incidents','mean': 'Average_Kills'})"
   ]
  }
 ],
 "metadata": {
  "kernelspec": {
   "display_name": "Python 3",
   "language": "python",
   "name": "python3"
  },
  "language_info": {
   "codemirror_mode": {
    "name": "ipython",
    "version": 3
   },
   "file_extension": ".py",
   "mimetype": "text/x-python",
   "name": "python",
   "nbconvert_exporter": "python",
   "pygments_lexer": "ipython3",
   "version": "3.6.4"
  }
 },
 "nbformat": 4,
 "nbformat_minor": 2
}
