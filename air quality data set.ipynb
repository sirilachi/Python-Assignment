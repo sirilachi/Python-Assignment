{
 "cells": [
  {
   "cell_type": "code",
   "execution_count": null,
   "metadata": {},
   "outputs": [],
   "source": [
    "import pandas as pd\n",
    "import numpy as np\n"
   ]
  },
  {
   "cell_type": "code",
   "execution_count": null,
   "metadata": {},
   "outputs": [],
   "source": [
    "ar=pd.read_csv(\"air.csv\")"
   ]
  },
  {
   "cell_type": "code",
   "execution_count": null,
   "metadata": {},
   "outputs": [],
   "source": [
    "'''\n",
    "                                           \n",
    "Using the Air Quality data set, Solve the below using the base-R package. The data frame is loading into the R object “airquality”\n",
    "1.\tFetch the observations for 9 day of June\n",
    "\n",
    "2.\tFind Average temperature for the month of June. \n",
    "\n",
    "3.\tTo which day of June has the least temperature\n",
    "\n",
    "4.\tFind Maximum Ozone value for the month of May\n",
    "\n",
    "5.\tFind the count of the missing values in the ozone column of the data set\n",
    "\n",
    "6.\tFind out What is the mean of the Ozone column in this dataset\n",
    "\n",
    "7.\tFind out which month has the highest temperature\n",
    "\n",
    "8.\tFind out the wind value when the Ozone becomes maximum\n",
    "\n",
    "9.\tFind out the months for which the airquality observations have been carried out\n",
    "\n",
    "10.\tFind the Ozone and temperature values for the 1st observation of every month.\n",
    "\n",
    "11.\tWhich day of which month corresponds to the least Ozone Value. \n",
    "\n",
    "12.\tConvert the temperature for all the observations to Centigrade scale\n",
    "\n",
    "\n",
    "Data Description: New York Air Quality Measurements are Daily readings of the air quality values for May 1, 1973 (a Tuesday) to September 30, 1973. The different attributes in the data frame are:\n",
    "•\tOzone: Mean ozone in parts per billion from 1300 to 1500 hours at Roosevelt Island\n",
    "•\tSolar.R: Solar radiation in Langleys in the frequency band 4000–7700 Angstroms from 0800 to 1200 hours at Central Park\n",
    "•\tWind: Average wind speed in miles per hour at 0700 and 1000 hours at LaGuardia Airport\n",
    "•\tTemp: Maximum daily temperature in degrees Fahrenheit at La Guardia Airport.\n",
    "Source: The data were obtained from the New York State Department of Conservation (ozone data) and the National Weather Service (meteorological data).\n",
    "\n",
    "'''"
   ]
  },
  {
   "cell_type": "code",
   "execution_count": null,
   "metadata": {},
   "outputs": [],
   "source": [
    "#1.\tFetch the observations for 9 day of June\n",
    "ar.query(\"(Day==9 and Month==6)\")"
   ]
  },
  {
   "cell_type": "code",
   "execution_count": null,
   "metadata": {},
   "outputs": [],
   "source": [
    "#2.\tFind Average temperature for the month of June.\n",
    "ar.query(\"(Month==6)\").Month.mean()"
   ]
  },
  {
   "cell_type": "code",
   "execution_count": null,
   "metadata": {},
   "outputs": [],
   "source": [
    "#3.\tTo which day of June has the least temperature\n",
    "ar.query(\"(Month==6)\").min().Day"
   ]
  },
  {
   "cell_type": "code",
   "execution_count": null,
   "metadata": {},
   "outputs": [],
   "source": [
    "#4.\tFind Maximum Ozone value for the month of May\n",
    "ar.query(\"(Month==5)\").Ozone.max()"
   ]
  },
  {
   "cell_type": "code",
   "execution_count": null,
   "metadata": {},
   "outputs": [],
   "source": [
    "#5.\tFind the count of the missing values in the ozone column of the data set\n",
    "ar.Ozone.isnull().sum()"
   ]
  },
  {
   "cell_type": "code",
   "execution_count": null,
   "metadata": {},
   "outputs": [],
   "source": [
    "#6.\tFind out What is the mean of the Ozone column in this dataset\n",
    "ar.Ozone.mean()"
   ]
  },
  {
   "cell_type": "code",
   "execution_count": null,
   "metadata": {},
   "outputs": [],
   "source": [
    "#7.\tFind out which month has the highest temperature\n",
    "a=ar.Temp.max()\n",
    "b=ar.Temp\n",
    "ar[[\"Month\",'Temp']][np.in1d(b,a)]\n"
   ]
  },
  {
   "cell_type": "code",
   "execution_count": null,
   "metadata": {},
   "outputs": [],
   "source": [
    "#8.\tFind out the wind value when the Ozone becomes maximum\n",
    "w=ar.Ozone.max()\n",
    "w1=ar.Ozone\n",
    "ar[[\"Wind\",\"Ozone\"]][np.in1d(w1,w)]"
   ]
  },
  {
   "cell_type": "code",
   "execution_count": null,
   "metadata": {},
   "outputs": [],
   "source": [
    "#9.\tFind out the months for which the airquality observations have been carried out\n",
    "ar.Month.unique()\n"
   ]
  },
  {
   "cell_type": "code",
   "execution_count": null,
   "metadata": {},
   "outputs": [],
   "source": [
    "#10.\tFind the Ozone and temperature values for the 1st observation of every month.\n",
    "ar.query(\"(Day==1)\")[[\"Ozone\",\"Temp\",\"Day\"]]"
   ]
  },
  {
   "cell_type": "code",
   "execution_count": null,
   "metadata": {},
   "outputs": [],
   "source": [
    "#11.\tWhich day of which month corresponds to the least Ozone Value. \n",
    "m=ar.Ozone.min()\n",
    "m1=ar.Ozone\n",
    "ar[[\"Day\",\"Month\",\"Ozone\"]][np.in1d(m1,m)]"
   ]
  },
  {
   "cell_type": "code",
   "execution_count": null,
   "metadata": {},
   "outputs": [],
   "source": [
    "#12.\tConvert the temperature for all the observations to Centigrade scale\n",
    "ar[\"cent\"]=(ar.Temp-32)*(5/9)\n",
    "ar"
   ]
  },
  {
   "cell_type": "code",
   "execution_count": null,
   "metadata": {},
   "outputs": [],
   "source": []
  },
  {
   "cell_type": "code",
   "execution_count": null,
   "metadata": {},
   "outputs": [],
   "source": []
  },
  {
   "cell_type": "code",
   "execution_count": null,
   "metadata": {},
   "outputs": [],
   "source": []
  }
 ],
 "metadata": {
  "kernelspec": {
   "display_name": "Python 3",
   "language": "python",
   "name": "python3"
  },
  "language_info": {
   "codemirror_mode": {
    "name": "ipython",
    "version": 3
   },
   "file_extension": ".py",
   "mimetype": "text/x-python",
   "name": "python",
   "nbconvert_exporter": "python",
   "pygments_lexer": "ipython3",
   "version": "3.6.4"
  }
 },
 "nbformat": 4,
 "nbformat_minor": 2
}
